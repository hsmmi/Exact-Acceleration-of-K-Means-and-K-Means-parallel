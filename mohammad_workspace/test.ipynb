{
 "cells": [
  {
   "cell_type": "code",
   "execution_count": 8,
   "metadata": {},
   "outputs": [],
   "source": [
    "import numpy as np\n",
    "import os\n",
    "import sys\n",
    "import pandas as pd\n",
    "import pickledb\n",
    "currentdir = os.path.dirname(os.path.realpath('__file__'))\n",
    "parentdir = os.path.dirname(currentdir)\n",
    "sys.path.append(parentdir)\n",
    "\n",
    "from dataset import Dataset\n",
    "from tools import *\n",
    "import matplotlib.pyplot as plt\n",
    "from  nearest_neighbor_search import NNS\n",
    "\n",
    "from akll import AKLL\n",
    "from kll import KLL\n",
    "from functools import wraps\n",
    "from time import time"
   ]
  },
  {
   "cell_type": "code",
   "execution_count": 9,
   "metadata": {},
   "outputs": [
    {
     "name": "stdout",
     "output_type": "stream",
     "text": [
      "func:Dataset.__init__ took: 0.08600068092346191 sec\n"
     ]
    }
   ],
   "source": [
    "dataset_name = 'phishing.csv'\n",
    "dataset_path=f'{parentdir}/dataset/{dataset_name}'\n",
    "x = Dataset(dataset_path)"
   ]
  },
  {
   "cell_type": "code",
   "execution_count": 3,
   "metadata": {},
   "outputs": [
    {
     "name": "stderr",
     "output_type": "stream",
     "text": [
      "C:\\Users\\Mohammad\\AppData\\Local\\Programs\\Python\\Python37\\lib\\site-packages\\numpy\\lib\\function_base.py:4454: VisibleDeprecationWarning: Creating an ndarray from ragged nested sequences (which is a list-or-tuple of lists-or-tuples-or ndarrays with different lengths or shapes) is deprecated. If you meant to do this, you must specify 'dtype=object' when creating the ndarray.\n",
      "  arr = asarray(arr)\n"
     ]
    },
    {
     "name": "stdout",
     "output_type": "stream",
     "text": [
      "func:Dataset.__init__ took: 0.0 sec\n",
      "func:KPP.fit took: 0.0 sec\n",
      "func:AKLL.fit took: 4.1239848136901855 sec\n"
     ]
    }
   ],
   "source": [
    "db_init()\n",
    "t=AKLL(x)\n",
    "c=t.fit(2,5,4)\n",
    "com,s=get_log()\n",
    "# plt.scatter(t.X[:,0],t.X[:,1])\n",
    "# plt.scatter(c[:,0],c[:,1])\n"
   ]
  },
  {
   "cell_type": "code",
   "execution_count": 4,
   "metadata": {},
   "outputs": [
    {
     "data": {
      "text/plain": [
       "'hhhb'"
      ]
     },
     "execution_count": 4,
     "metadata": {},
     "output_type": "execute_result"
    }
   ],
   "source": [
    "'hhhb'.split('.')[-1]\n"
   ]
  },
  {
   "cell_type": "code",
   "execution_count": 5,
   "metadata": {},
   "outputs": [],
   "source": [
    "# algorithm 1 K-Means++\n",
    "class kpp:\n",
    "    \n",
    "\n",
    "    def __init__(\n",
    "        self,\n",
    "        dataset:Dataset\n",
    "        )->None:\n",
    "\n",
    "        \n",
    "        self.dataset = dataset\n",
    "        self.n=dataset.number_of_sample\n",
    "        self.d=dataset.number_of_feature\n",
    "        self.X=dataset.sample\n",
    "        self.m = None\n",
    "        self.K=None\n",
    "\n",
    "\n",
    "    \n",
    "    def fit(\n",
    "        self,\n",
    "        number_of_cluster:int ,\n",
    "        sample_weight:np.ndarray=None\n",
    "        )->np.ndarray:\n",
    "        \n",
    "        self.m=np.empty((0, self.d))\n",
    "        self.K=number_of_cluster\n",
    "\n",
    "\n",
    "            \n",
    "        assert self.n>self.K and self.K >0 ,\\\n",
    "            'number of cluster should be in range [1,n)' \n",
    "            \n",
    "        if sample_weight is not None:\n",
    "            self.sample_weight=np.array(sample_weight)\n",
    "        else:\n",
    "            self.sample_weight=np.ones(self.n)\n",
    "       \n",
    "        self.sample_weight=self.sample_weight.reshape((-1,1)) \n",
    "        # line 1\n",
    "        beta=self.sample_weight/np.sum(self.sample_weight)\n",
    "        # line 2\n",
    "\n",
    "        m=np.vstack((self.m,new_seed(self.X,1,beta)))\n",
    "        # line 3\n",
    "        alpha=np.array([np.inf]*self.n).reshape((-1,1))\n",
    "        k=1\n",
    "        # line 4\n",
    "        while k <self.K:\n",
    "            # line 5,6\n",
    "            alpha=np.minimum(alpha,distance(self.X,m[k-1]))\n",
    "            # line 7,8\n",
    "            t=self.sample_weight*(alpha**2)\n",
    "            beta=t/np.sum(t)\n",
    "            # line 9\n",
    "            k+=1\n",
    "            # line 10\n",
    "            m=np.vstack((m,new_seed(self.X,1,beta)))\n",
    "        self.m=m\n",
    "        # line 11\n",
    "        return np.array(m)\n",
    "    \n",
    "    "
   ]
  },
  {
   "cell_type": "code",
   "execution_count": 6,
   "metadata": {},
   "outputs": [],
   "source": [
    "t=kpp(x)\n"
   ]
  },
  {
   "cell_type": "code",
   "execution_count": 7,
   "metadata": {},
   "outputs": [
    {
     "ename": "AssertionError",
     "evalue": "number of cluster should be in range [1,n)",
     "output_type": "error",
     "traceback": [
      "\u001b[1;31m---------------------------------------------------------------------------\u001b[0m",
      "\u001b[1;31mAssertionError\u001b[0m                            Traceback (most recent call last)",
      "\u001b[1;32m~\\AppData\\Local\\Temp\\ipykernel_21848\\773225769.py\u001b[0m in \u001b[0;36m<module>\u001b[1;34m\u001b[0m\n\u001b[1;32m----> 1\u001b[1;33m \u001b[0mt\u001b[0m\u001b[1;33m.\u001b[0m\u001b[0mfit\u001b[0m\u001b[1;33m(\u001b[0m\u001b[1;33m-\u001b[0m\u001b[1;36m2\u001b[0m\u001b[1;33m)\u001b[0m\u001b[1;33m\u001b[0m\u001b[1;33m\u001b[0m\u001b[0m\n\u001b[0m",
      "\u001b[1;32m~\\AppData\\Local\\Temp\\ipykernel_21848\\3125792788.py\u001b[0m in \u001b[0;36mfit\u001b[1;34m(self, number_of_cluster, sample_weight)\u001b[0m\n\u001b[0;32m     30\u001b[0m \u001b[1;33m\u001b[0m\u001b[0m\n\u001b[0;32m     31\u001b[0m         \u001b[1;32massert\u001b[0m \u001b[0mself\u001b[0m\u001b[1;33m.\u001b[0m\u001b[0mn\u001b[0m\u001b[1;33m>\u001b[0m\u001b[0mself\u001b[0m\u001b[1;33m.\u001b[0m\u001b[0mK\u001b[0m \u001b[1;32mand\u001b[0m \u001b[0mself\u001b[0m\u001b[1;33m.\u001b[0m\u001b[0mK\u001b[0m \u001b[1;33m>\u001b[0m\u001b[1;36m0\u001b[0m \u001b[1;33m,\u001b[0m\u001b[0;31m\\\u001b[0m\u001b[1;33m\u001b[0m\u001b[1;33m\u001b[0m\u001b[0m\n\u001b[1;32m---> 32\u001b[1;33m             \u001b[1;34m'number of cluster should be in range [1,n)'\u001b[0m\u001b[1;33m\u001b[0m\u001b[1;33m\u001b[0m\u001b[0m\n\u001b[0m\u001b[0;32m     33\u001b[0m \u001b[1;33m\u001b[0m\u001b[0m\n\u001b[0;32m     34\u001b[0m         \u001b[1;32mif\u001b[0m \u001b[0msample_weight\u001b[0m \u001b[1;32mis\u001b[0m \u001b[1;32mnot\u001b[0m \u001b[1;32mNone\u001b[0m\u001b[1;33m:\u001b[0m\u001b[1;33m\u001b[0m\u001b[1;33m\u001b[0m\u001b[0m\n",
      "\u001b[1;31mAssertionError\u001b[0m: number of cluster should be in range [1,n)"
     ]
    }
   ],
   "source": [
    "t.fit(-2)"
   ]
  },
  {
   "cell_type": "code",
   "execution_count": null,
   "metadata": {},
   "outputs": [
    {
     "data": {
      "text/plain": [
       "array([[2., 0.],\n",
       "       [2., 3.],\n",
       "       [3., 3.]])"
      ]
     },
     "execution_count": 134,
     "metadata": {},
     "output_type": "execute_result"
    }
   ],
   "source": [
    "\n",
    "m=np.empty((0,t.d))\n",
    "m=np.vstack((m,new_seed(t.X,1,beta)))\n",
    "m=np.vstack((m,new_seed(t.X,1,beta)))\n",
    "m=np.vstack((m,new_seed(t.X,1,beta)))\n",
    "m"
   ]
  },
  {
   "cell_type": "code",
   "execution_count": null,
   "metadata": {},
   "outputs": [
    {
     "data": {
      "text/plain": [
       "<matplotlib.collections.PathCollection at 0x1e3d493b148>"
      ]
     },
     "execution_count": 79,
     "metadata": {},
     "output_type": "execute_result"
    },
    {
     "data": {
      "image/png": "[encoded data removed]",
      "text/plain": [
       "<Figure size 432x288 with 1 Axes>"
      ]
     },
     "metadata": {
      "needs_background": "light"
     },
     "output_type": "display_data"
    }
   ],
   "source": [
    "t=kll()\n",
    "c=t.fit(2)\n",
    "plt.scatter(t.X[:,0],t.X[:,1])\n",
    "plt.scatter(c[:,0],c[:,1])"
   ]
  },
  {
   "cell_type": "code",
   "execution_count": null,
   "metadata": {},
   "outputs": [],
   "source": [
    "c=np.array([[0,0],[2,2]])"
   ]
  },
  {
   "cell_type": "code",
   "execution_count": null,
   "metadata": {},
   "outputs": [],
   "source": [
    "j=np.array([[0,2],[0,4]])"
   ]
  },
  {
   "cell_type": "code",
   "execution_count": null,
   "metadata": {},
   "outputs": [
    {
     "data": {
      "text/plain": [
       "array([[2.        , 4.        ],\n",
       "       [2.        , 2.82842712]])"
      ]
     },
     "execution_count": 52,
     "metadata": {},
     "output_type": "execute_result"
    }
   ],
   "source": [
    "np.linalg.norm(c[:,None,:]-j,axis=2)  "
   ]
  },
  {
   "cell_type": "code",
   "execution_count": null,
   "metadata": {},
   "outputs": [],
   "source": [
    "j=np.empty(5)"
   ]
  },
  {
   "cell_type": "code",
   "execution_count": null,
   "metadata": {},
   "outputs": [
    {
     "name": "stdout",
     "output_type": "stream",
     "text": [
      "func:speed class:Computer.speed took: 0.0 sec\n"
     ]
    }
   ],
   "source": [
    "def execution_time2(f):\n",
    "    @wraps(f)\n",
    "    def wrap(*args, **kw):\n",
    "        ts = time()\n",
    "        result = f(*args, **kw)\n",
    "        te = time()\n",
    "        print(f\"func:{f.__name__} class:{f.__qualname__} took: {te-ts} sec\")\n",
    "\n",
    "        return result\n",
    "\n",
    "    return wrap\n",
    "\n",
    "def exclogger(f):\n",
    "    #  computations logger\n",
    "    @wraps(f)\n",
    "    def wrap(*args, **kw):\n",
    "        x=args[0].shape[0]\n",
    "        y=args[1].shape[0]\n",
    "        num_of_computations=x*y\n",
    "        output_path='log.csv'\n",
    "        if not os.path.exists(output_path):\n",
    "            open(output_path, mode='a').close()\n",
    "            df=pd.DataFrame(['computation'])\n",
    "            df.to_csv(output_path,index=False, mode='a' ,encoding='utf-8-sig',header=False )\n",
    "\n",
    "        df=pd.DataFrame([num_of_computations])\n",
    "        df.to_csv(output_path,index=False, mode='a' ,encoding='utf-8-sig',header=False )\n",
    "\n",
    "\n",
    "        return f(*args, **kw)\n",
    "\n",
    "    return wrap  \n",
    "\n",
    "\n",
    "\n",
    "\n",
    "\n",
    "def logger(f):\n",
    "    #  computations logger\n",
    "    @wraps(f)\n",
    "    def wrap(*args, **kw):\n",
    "        x=args[0].shape[0]\n",
    "        y=args[1].shape[0]\n",
    "        num_of_computations=x*y\n",
    "        db = pickledb.load('log.db', False)\n",
    "        db.set('c_sum',db.get('c_sum')+num_of_computations)\n",
    "        c=db.get('computations')\n",
    "        db.set('computations',[*c,num_of_computations])\n",
    "        db.dump()\n",
    "        return f(*args, **kw)\n",
    "\n",
    "    return wrap \n",
    "\n",
    "@execution_time2\n",
    "def runner(iter:int,k:int):\n",
    "    dis = []\n",
    "    for i in range(iter):\n",
    "        \n",
    "        t.fit(k,5,k*2)\n",
    "        dis.append(distance(t.c[0], t.c[1]))\n",
    "    # plt.scatter(akpp.X[:, 0], akpp.X[:, 1])\n",
    "    # plt.scatter(akpp.m[:, 0], akpp.m[:, 1])\n",
    "    # plt.show()\n",
    "    return np.mean(dis)\n",
    "\n",
    "\n",
    "class Computer:\n",
    "\n",
    "    def __init__(self,cpu):\n",
    "        self.cpu = cpu\n",
    "    @execution_time2\n",
    "    def speed(self):\n",
    "        z=(1000//self.cpu)\n",
    "        for i in range(z):\n",
    "            pass\n",
    "\n",
    "c=Computer(10)\n",
    "c.speed()"
   ]
  },
  {
   "cell_type": "code",
   "execution_count": null,
   "metadata": {},
   "outputs": [],
   "source": [
    "# beta=t.sample_weight/np.sum(t.sample_weight)\n",
    "# new_seed(x.sample,1,beta).shape\n",
    "\n",
    "@tlogger\n",
    "def dist(X: np.ndarray, Y: np.ndarray):\n",
    "    \"\"\"\n",
    "    Parameters:\n",
    "        X: nxd data(s)\n",
    "        Y: mxd point(s)\n",
    "\n",
    "    Returns:\n",
    "        d: nxm ndarray contain distance of data to each point\n",
    "    \"\"\"\n",
    "    if len(X.shape) == 1:\n",
    "        X = X.reshape((1, -1))\n",
    "    if len(Y.shape) == 1:\n",
    "        Y = Y.reshape((1, -1))\n",
    "    assert len(X.shape) == 2, \"X should be nxd ndarray\"\n",
    "    assert (\n",
    "        len(Y.shape) == 2 and Y.shape[1] == X.shape[1]\n",
    "    ), \"y should be in X space\"\n",
    "    return np.linalg.norm((X[:, np.newaxis, :] - Y), axis=-1)\n",
    "\n",
    "    "
   ]
  },
  {
   "cell_type": "code",
   "execution_count": null,
   "metadata": {},
   "outputs": [
    {
     "data": {
      "text/plain": [
       "array([[7.41619849],\n",
       "       [2.23606798],\n",
       "       [2.23606798]])"
      ]
     },
     "execution_count": 39,
     "metadata": {},
     "output_type": "execute_result"
    }
   ],
   "source": [
    "i=np.array([[1,2,3,4,5],[1,3,5,7,9],[1,3,5,7,9]])\n",
    "j=np.array([[2,4,6,8,10]])\n",
    "\n",
    "dist(i,j)"
   ]
  },
  {
   "cell_type": "code",
   "execution_count": null,
   "metadata": {},
   "outputs": [
    {
     "data": {
      "text/plain": [
       "12"
      ]
     },
     "execution_count": 40,
     "metadata": {},
     "output_type": "execute_result"
    }
   ],
   "source": [
    "# pd.read_csv('log.csv',encoding='utf-8-sig')\n",
    "dist.sum"
   ]
  },
  {
   "cell_type": "code",
   "execution_count": null,
   "metadata": {},
   "outputs": [],
   "source": [
    "def tlogger(f):\n",
    "    def wrapped(*args, **kwargs):\n",
    "        x=args[0].shape[0]\n",
    "        y=args[1].shape[0]\n",
    "        num_of_computations=x*y\n",
    "        wrapped.sum+=num_of_computations\n",
    "        return f(*args, **kwargs)\n",
    "    wrapped.sum = 0\n",
    "    return wrapped"
   ]
  },
  {
   "cell_type": "code",
   "execution_count": null,
   "metadata": {},
   "outputs": [
    {
     "data": {
      "text/plain": [
       "array([0.12698413, 0.01587302, 0.85714286])"
      ]
     },
     "execution_count": 36,
     "metadata": {},
     "output_type": "execute_result"
    }
   ],
   "source": [
    "c*j**2/np.sum(c*j**2)"
   ]
  },
  {
   "cell_type": "code",
   "execution_count": null,
   "metadata": {},
   "outputs": [
    {
     "name": "stdout",
     "output_type": "stream",
     "text": [
      "Writing kll.py\n"
     ]
    }
   ],
   "source": [
    "# %%file kll.py\n",
    "# import numpy as np\n",
    "# from dataset import Dataset\n",
    "# from tools import distance, new_seed, execution_time\n",
    "\n",
    "\n",
    "# algorithm 3 K-Means ||\n",
    "class kll:\n",
    "    def __init__(self, dataset: Dataset) -> None:\n",
    "        self.dataset = dataset\n",
    "        self.n = dataset.number_of_sample\n",
    "        self.d = dataset.number_of_feature\n",
    "        self.X = dataset.sample\n",
    "        self.c = None\n",
    "        self.K = None\n",
    "        self.R = None\n",
    "        self.l = None\n",
    "\n",
    "    @execution_time\n",
    "    def fit(\n",
    "            self, number_of_cluster: int,\n",
    "            rounds:int=5,\n",
    "            oversampling_factor:int=1,\n",
    "            sample_weight: np.ndarray = None) -> np.ndarray:\n",
    "\n",
    "        self.c = np.empty((0, self.d))\n",
    "        self.K = number_of_cluster\n",
    "        self.R = rounds\n",
    "        self.l = oversampling_factor\n",
    "\n",
    "        assert self.R>0 and self.l>0 , \\\n",
    "            'invalid function parameter'\n",
    "        assert self.n>self.K and self.K >0 ,\\\n",
    "            'number of cluster should be in range [1,n)' \n",
    "\n",
    "        if sample_weight is not None:\n",
    "            self.sample_weight = np.array(sample_weight)\n",
    "        else:\n",
    "            self.sample_weight = np.ones(self.n)\n",
    "       \n",
    "        self.sample_weight = self.sample_weight.reshape((-1, 1))\n",
    "        # line 1 algorithm 1\n",
    "        beta = self.sample_weight/np.sum(self.sample_weight)\n",
    "        # line 2 algorithm 1\n",
    "        c = np.vstack((self.c, new_seed(self.X, 1, beta)))\n",
    "        # line 3 algorithm 1\n",
    "        alpha = np.array([np.inf]*self.n).reshape((-1, 1))\n",
    "        k = 1\n",
    "        kp = 0\n",
    "        # line 4,5,6 algorithm 1\n",
    "        for r in range(self.R):\n",
    "            for i in range(self.n):\n",
    "                for j in range(kp,k):\n",
    "                    # line 7 algorithm 1\n",
    "                    alpha[i] = np.minimum(\n",
    "                        alpha[i], distance(self.X[i], c[j]))\n",
    "\n",
    "            # line 8,9 algorithm 1\n",
    "            kp = k\n",
    "            t = self.sample_weight*(alpha**2)\n",
    "            z = np.sum(t)\n",
    "            # line 10,11,12 algorithm 3\n",
    "            for i in range(self.n):\n",
    "                p=(self.l*self.sample_weight[i]*(alpha[i]**2)/z)\n",
    "                if p > np.random.rand(1)[0]:\n",
    "                    k+=1\n",
    "                    c=np.vstack((c, self.X[i]))\n",
    "                    alpha[i]=0\n",
    "       \n",
    "        # line 13 algorithm 3\n",
    "        wp=np.empty((0,1))\n",
    "        for i in range(c.shape[0]):\n",
    "            s=0\n",
    "            for j in range(self.n):\n",
    "                wj=self.sample_weight[j]\n",
    "                indic= 1 if distance(self.X[j], c[i])==alpha[j] else 0\n",
    "                s+=wj*indic\n",
    "           \n",
    "            wp=np.vstack((wp,s))\n",
    "        self.c=c\n",
    "        # line 14 algorithm 3\n",
    "        kpp_=kpp(Dataset(np.array(c)))\n",
    "\n",
    "        return kpp_.fit(self.K,wp)\n",
    "            \n",
    "\n",
    "# t=kll(x)\n",
    "# c=t.fit(2,5,4)\n",
    "# plt.scatter(t.X[:,0],t.X[:,1])\n",
    "# plt.scatter(c[:,0],c[:,1])\n"
   ]
  },
  {
   "cell_type": "code",
   "execution_count": null,
   "metadata": {},
   "outputs": [],
   "source": [
    "assert -1   , ' heeee'"
   ]
  },
  {
   "cell_type": "code",
   "execution_count": null,
   "metadata": {},
   "outputs": [
    {
     "data": {
      "text/plain": [
       "25"
      ]
     },
     "execution_count": 113,
     "metadata": {},
     "output_type": "execute_result"
    }
   ],
   "source": [
    "x.number_of_sample"
   ]
  },
  {
   "cell_type": "code",
   "execution_count": null,
   "metadata": {},
   "outputs": [],
   "source": [
    "def encode(y):            \n",
    "    return (np.arange(np.unique(y).size) == y)"
   ]
  },
  {
   "cell_type": "code",
   "execution_count": null,
   "metadata": {},
   "outputs": [
    {
     "name": "stderr",
     "output_type": "stream",
     "text": [
      "C:\\Users\\Mohammad\\AppData\\Local\\Programs\\Python\\Python37\\lib\\site-packages\\ipykernel_launcher.py:2: DeprecationWarning: elementwise comparison failed; this will raise an error in the future.\n",
      "  \n"
     ]
    },
    {
     "data": {
      "text/plain": [
       "False"
      ]
     },
     "execution_count": 94,
     "metadata": {},
     "output_type": "execute_result"
    }
   ],
   "source": [
    "encode()"
   ]
  },
  {
   "cell_type": "code",
   "execution_count": null,
   "metadata": {},
   "outputs": [
    {
     "ename": "ZeroDivisionError",
     "evalue": "integer division or modulo by zero",
     "output_type": "error",
     "traceback": [
      "\u001b[1;31m---------------------------------------------------------------------------\u001b[0m",
      "\u001b[1;31mZeroDivisionError\u001b[0m                         Traceback (most recent call last)",
      "\u001b[1;32m~\\AppData\\Local\\Temp\\ipykernel_29356\\1990073460.py\u001b[0m in \u001b[0;36m<module>\u001b[1;34m\u001b[0m\n\u001b[1;32m----> 1\u001b[1;33m \u001b[1;36m0\u001b[0m\u001b[1;33m//\u001b[0m\u001b[1;36m0\u001b[0m\u001b[1;33m\u001b[0m\u001b[1;33m\u001b[0m\u001b[0m\n\u001b[0m",
      "\u001b[1;31mZeroDivisionError\u001b[0m: integer division or modulo by zero"
     ]
    }
   ],
   "source": [
    "0//0"
   ]
  },
  {
   "cell_type": "code",
   "execution_count": null,
   "metadata": {},
   "outputs": [
    {
     "data": {
      "text/plain": [
       "0"
      ]
     },
     "execution_count": 101,
     "metadata": {},
     "output_type": "execute_result"
    }
   ],
   "source": [
    "d= 1 if 3==5 else 0\n",
    "d"
   ]
  },
  {
   "cell_type": "code",
   "execution_count": null,
   "metadata": {},
   "outputs": [],
   "source": [
    "g=distance(x.sample[1], x.sample[5])"
   ]
  },
  {
   "cell_type": "code",
   "execution_count": null,
   "metadata": {},
   "outputs": [
    {
     "data": {
      "text/plain": [
       "1"
      ]
     },
     "execution_count": 138,
     "metadata": {},
     "output_type": "execute_result"
    }
   ],
   "source": [
    "1 if g>np.array([[1]]) else 0"
   ]
  },
  {
   "cell_type": "code",
   "execution_count": null,
   "metadata": {},
   "outputs": [
    {
     "data": {
      "text/plain": [
       "array([[1.41421356]])"
      ]
     },
     "execution_count": 136,
     "metadata": {},
     "output_type": "execute_result"
    }
   ],
   "source": [
    "g"
   ]
  },
  {
   "cell_type": "code",
   "execution_count": null,
   "metadata": {},
   "outputs": [],
   "source": [
    "y=np.array([[1,2],[3,4]])\n",
    "# Dataset(y)\n",
    "x=Dataset(y)"
   ]
  },
  {
   "cell_type": "code",
   "execution_count": null,
   "metadata": {},
   "outputs": [
    {
     "data": {
      "text/plain": [
       "2"
      ]
     },
     "execution_count": 13,
     "metadata": {},
     "output_type": "execute_result"
    }
   ],
   "source": [
    "x.number_of_feature"
   ]
  },
  {
   "cell_type": "code",
   "execution_count": null,
   "metadata": {},
   "outputs": [],
   "source": [
    "f=np.empty((0,2))"
   ]
  },
  {
   "cell_type": "code",
   "execution_count": null,
   "metadata": {},
   "outputs": [
    {
     "data": {
      "text/plain": [
       "array([], shape=(0, 20), dtype=float64)"
      ]
     },
     "execution_count": 63,
     "metadata": {},
     "output_type": "execute_result"
    }
   ],
   "source": [
    "f"
   ]
  },
  {
   "cell_type": "code",
   "execution_count": null,
   "metadata": {},
   "outputs": [],
   "source": [
    "f=np.vstack((f,np.array([1,2])))"
   ]
  },
  {
   "cell_type": "code",
   "execution_count": null,
   "metadata": {},
   "outputs": [
    {
     "data": {
      "text/plain": [
       "array([[1., 2.]])"
      ]
     },
     "execution_count": 68,
     "metadata": {},
     "output_type": "execute_result"
    }
   ],
   "source": [
    "f"
   ]
  },
  {
   "cell_type": "code",
   "execution_count": null,
   "metadata": {},
   "outputs": [],
   "source": [
    "import numpy as np\n",
    "from dataset import Dataset\n",
    "from tools import distance, new_seed, execution_time\n",
    "import kpp\n",
    "\n",
    "\n",
    "# algorithm 5 Accelerated K-Means ||\n",
    "class Akll:\n",
    "    def __init__(self, dataset: Dataset) -> None:\n",
    "        self.dataset = dataset\n",
    "        self.n = dataset.number_of_sample\n",
    "        self.d = dataset.number_of_feature\n",
    "        self.X = dataset.sample\n",
    "        self.c = None\n",
    "        self.K = None\n",
    "        self.R = None\n",
    "        self.L = None\n",
    "\n",
    "    @execution_time\n",
    "    def fit(\n",
    "        self,\n",
    "        number_of_cluster: int,\n",
    "        rounds: int = 5,\n",
    "        oversampling_factor: int = 1,\n",
    "        sample_weight: np.ndarray = None,\n",
    "    ) -> np.ndarray:\n",
    "\n",
    "        self.c = np.empty((0, self.d))\n",
    "        self.K = number_of_cluster\n",
    "        self.R = rounds\n",
    "        self.L = oversampling_factor\n",
    "\n",
    "        assert self.R > 0 and self.L > 0, \"invalid function parameter\"\n",
    "        assert (\n",
    "            self.n > self.K and self.K > 0\n",
    "        ), \"number of cluster should be in range [1,n)\"\n",
    "\n",
    "        if sample_weight is not None:\n",
    "            self.sample_weight = np.array(sample_weight)\n",
    "        else:\n",
    "            self.sample_weight = np.ones(self.n)\n",
    "\n",
    "        self.sample_weight = self.sample_weight.reshape((-1, 1))\n",
    "        # line 1 algorithm 5\n",
    "        beta = self.sample_weight / np.sum(self.sample_weight)\n",
    "        # line 2 algorithm 5\n",
    "        c = np.vstack((self.c, new_seed(self.X, 1, beta)))\n",
    "        # line 3 algorithm 5\n",
    "        alpha = np.array([np.inf] * self.n).reshape((-1, 1))\n",
    "        k = 1\n",
    "        kp = 0\n",
    "        # line 4 algorithm 5\n",
    "        for r in range(self.R):\n",
    "            # line  5, 6,7 algorithm 5\n",
    "            #  C ← new index built from {ckprev, . . . , ck }\n",
    "            for i in range(self.n):\n",
    "                j=None # j=C.nearestinrange(xi,ai)\n",
    "                # line 8,9 algorithm 5\n",
    "                if j>=0:\n",
    "                    alpha[i] = distance(self.X[i], c[j])\n",
    "\n",
    "            # line 10 algorithm 5\n",
    "            kp = k\n",
    "            t = self.sample_weight * (alpha**2)\n",
    "            z = np.sum(t)\n",
    "            # line 11,12,13 algorithm 5\n",
    "            for i in range(self.n):\n",
    "                p = self.L * self.sample_weight[i] * (alpha[i] ** 2) / z\n",
    "                if p > np.random.rand(1)[0]:\n",
    "                    k += 1\n",
    "                    c = np.vstack((c, self.X[i]))\n",
    "                    alpha[i] = 0\n",
    "\n",
    "        # line 14 algorithm 5\n",
    "        wp = np.empty((0, 1))\n",
    "        for i in range(c.shape[0]):\n",
    "            s = 0\n",
    "            for j in range(self.n):\n",
    "                wj = self.sample_weight[j]\n",
    "                indic = 1 if distance(self.X[j], c[i]) == alpha[j] else 0\n",
    "                s += wj * indic\n",
    "\n",
    "            wp = np.vstack((wp, s))\n",
    "        self.c = c\n",
    "        # line 15 algorithm 5\n",
    "        kpp_ = kpp(Dataset(np.array(c)))\n",
    "\n",
    "        return kpp_.fit(self.K, wp)\n"
   ]
  },
  {
   "cell_type": "code",
   "execution_count": null,
   "metadata": {},
   "outputs": [],
   "source": [
    "\n"
   ]
  },
  {
   "cell_type": "code",
   "execution_count": null,
   "metadata": {},
   "outputs": [],
   "source": [
    "import vptree\n",
    "\n",
    "# Define distance function.\n",
    "def euclidean(p1, p2):\n",
    "  return np.sqrt(np.sum(np.power(p2 - p1, 2)))\n",
    "\n",
    "# Generate some random points.\n",
    "points = np.random.randn(20, 2)\n",
    "query = [0] * 2\n",
    "\n",
    "# Build tree in O(n log n) time complexity.\n",
    "tree = vptree.VPTree(points, euclidean)\n",
    "\n",
    "# Query single point.\n",
    "res=tree.get_nearest_neighbor(query)\n",
    "\n",
    "# Query n-points.\n",
    "# tree.get_n_nearest_neighbors(query, 10)\n",
    "\n",
    "# Get all points within certain distance.\n",
    "# tree.get_all_in_range(query, 3.14)"
   ]
  },
  {
   "cell_type": "code",
   "execution_count": null,
   "metadata": {},
   "outputs": [],
   "source": [
    "# plt.scatter(points[:,0],points[:,1])\n",
    "# plt.scatter(res[1][0],res[1][1])"
   ]
  },
  {
   "cell_type": "code",
   "execution_count": null,
   "metadata": {},
   "outputs": [
    {
     "data": {
      "text/plain": [
       "int"
      ]
     },
     "execution_count": 172,
     "metadata": {},
     "output_type": "execute_result"
    }
   ],
   "source": [
    "# import copy\n",
    "\n",
    "\n",
    "# def g(tree):\n",
    "#     return copy.deepcopy(tree)\n",
    "# y=g(tree)\n",
    "type(db.get('c_sum'))"
   ]
  },
  {
   "cell_type": "code",
   "execution_count": null,
   "metadata": {},
   "outputs": [],
   "source": [
    "# y=g(tree)\n",
    "# while True: \n",
    "\n",
    "#     right=y.right\n",
    "#     if not right:\n",
    "#         break\n",
    "\n",
    "#     print(right.vp)\n",
    "\n",
    "#     y=right"
   ]
  },
  {
   "cell_type": "code",
   "execution_count": null,
   "metadata": {},
   "outputs": [
    {
     "data": {
      "text/plain": [
       "True"
      ]
     },
     "execution_count": 41,
     "metadata": {},
     "output_type": "execute_result"
    }
   ],
   "source": [
    "\n",
    "\n",
    "db = pickledb.load('log.db', False)\n",
    "\n",
    "db.set('computations',[])\n",
    "\n",
    "db.set('c_sum',0)\n",
    "\n",
    "\n",
    "db.dump()"
   ]
  },
  {
   "cell_type": "code",
   "execution_count": null,
   "metadata": {},
   "outputs": [
    {
     "name": "stdout",
     "output_type": "stream",
     "text": [
      "30\n"
     ]
    }
   ],
   "source": [
    "db = pickledb.load('log.db', False)\n",
    "print(db.get('c_sum'))"
   ]
  },
  {
   "cell_type": "code",
   "execution_count": null,
   "metadata": {},
   "outputs": [
    {
     "name": "stdout",
     "output_type": "stream",
     "text": [
      "[0, 0, 0, 0, 0, 0, 0, 0, 0]\n"
     ]
    }
   ],
   "source": [
    "\n",
    "db = pickledb.load('log.db', False)\n",
    "\n",
    "g=db.get('computations')\n",
    "db.set('computations',[*g,0])\n",
    "db.dump()\n",
    "# print(c)\n",
    "# c+=2\n",
    "# # # y=c.append(2)\n",
    "# db.set('c_sum',c)\n",
    "print(g)"
   ]
  },
  {
   "cell_type": "code",
   "execution_count": null,
   "metadata": {},
   "outputs": [
    {
     "name": "stdout",
     "output_type": "stream",
     "text": [
      "[4, 4, 4, 4, 4, 4, 4, 4, 4, 4, 4, 5, 5, 5, 5]\n"
     ]
    }
   ],
   "source": [
    "print(c)"
   ]
  },
  {
   "cell_type": "code",
   "execution_count": null,
   "metadata": {},
   "outputs": [
    {
     "data": {
      "text/plain": [
       "True"
      ]
     },
     "execution_count": 165,
     "metadata": {},
     "output_type": "execute_result"
    }
   ],
   "source": [
    "db.set('computations',[12])\n",
    "db.dump()"
   ]
  },
  {
   "cell_type": "code",
   "execution_count": null,
   "metadata": {},
   "outputs": [],
   "source": [
    "n=np.array([12])"
   ]
  },
  {
   "cell_type": "code",
   "execution_count": null,
   "metadata": {},
   "outputs": [],
   "source": [
    "y=n"
   ]
  },
  {
   "cell_type": "code",
   "execution_count": null,
   "metadata": {},
   "outputs": [
    {
     "ename": "AttributeError",
     "evalue": "'numpy.ndarray' object has no attribute 'pop'",
     "output_type": "error",
     "traceback": [
      "\u001b[1;31m---------------------------------------------------------------------------\u001b[0m",
      "\u001b[1;31mAttributeError\u001b[0m                            Traceback (most recent call last)",
      "\u001b[1;32m~\\AppData\\Local\\Temp\\ipykernel_29356\\1056046062.py\u001b[0m in \u001b[0;36m<module>\u001b[1;34m\u001b[0m\n\u001b[1;32m----> 1\u001b[1;33m \u001b[0mn\u001b[0m\u001b[1;33m.\u001b[0m\u001b[0mpop\u001b[0m\u001b[1;33m(\u001b[0m\u001b[1;33m)\u001b[0m\u001b[1;33m\u001b[0m\u001b[1;33m\u001b[0m\u001b[0m\n\u001b[0m",
      "\u001b[1;31mAttributeError\u001b[0m: 'numpy.ndarray' object has no attribute 'pop'"
     ]
    }
   ],
   "source": [
    "n.pop()"
   ]
  },
  {
   "cell_type": "code",
   "execution_count": null,
   "metadata": {},
   "outputs": [],
   "source": [
    "class clog:\n",
    " \n",
    "    def __init__(self, function):\n",
    "        self.function = function\n",
    "        self.s=0\n",
    " \n",
    "    def __call__(self,*params):\n",
    "        x = params[0].shape[0]\n",
    "        y = params[1].shape[0]\n",
    "        self.s+=x*y\n",
    "        return self.function(*params)\n",
    "           \n",
    "\n",
    "        # if any([isinstance(i, str) for i in params]):\n",
    "        #     raise TypeError(\"parameter cannot be a string !!\")\n",
    "        # else:\n",
    "        #     return self.function(*params)\n",
    " \n",
    " \n",
    "# @clog\n",
    "# def add_numbers(*numbers):\n",
    "#     return sum(numbers)\n",
    " \n",
    "# #  returns 6\n",
    "# print(add_numbers(1, 2, 3))\n",
    " \n",
    "# # raises Error. \n",
    "# print(add_numbers(1, '2', 3)) "
   ]
  },
  {
   "cell_type": "code",
   "execution_count": null,
   "metadata": {},
   "outputs": [
    {
     "ename": "AttributeError",
     "evalue": "type object 'clog' has no attribute 's'",
     "output_type": "error",
     "traceback": [
      "\u001b[1;31m---------------------------------------------------------------------------\u001b[0m",
      "\u001b[1;31mAttributeError\u001b[0m                            Traceback (most recent call last)",
      "\u001b[1;32m~\\AppData\\Local\\Temp\\ipykernel_11288\\3640507932.py\u001b[0m in \u001b[0;36m<module>\u001b[1;34m\u001b[0m\n\u001b[1;32m----> 1\u001b[1;33m \u001b[0mclog\u001b[0m\u001b[1;33m.\u001b[0m\u001b[0ms\u001b[0m\u001b[1;33m\u001b[0m\u001b[1;33m\u001b[0m\u001b[0m\n\u001b[0m",
      "\u001b[1;31mAttributeError\u001b[0m: type object 'clog' has no attribute 's'"
     ]
    }
   ],
   "source": [
    "clog.s"
   ]
  },
  {
   "cell_type": "code",
   "execution_count": 12,
   "metadata": {},
   "outputs": [
    {
     "name": "stdout",
     "output_type": "stream",
     "text": [
      "\n",
      "running kll for k:32\n",
      "func:Dataset.__init__ took: 0.0 sec\n",
      "func:KPP.fit took: 0.004997968673706055 sec\n",
      "func:KLL.fit took: 32.354804039001465 sec\n",
      "\n",
      "running akll for k:32\n",
      "func:Dataset.__init__ took: 0.0 sec\n",
      "func:KPP.fit took: 0.00500035285949707 sec\n",
      "func:AKLL.fit took: 36.22336459159851 sec\n",
      "\n",
      "running kll for k:64\n",
      "func:Dataset.__init__ took: 0.0 sec\n",
      "func:KPP.fit took: 0.01299738883972168 sec\n",
      "func:KLL.fit took: 57.1912784576416 sec\n",
      "\n",
      "running akll for k:64\n",
      "func:Dataset.__init__ took: 0.0 sec\n",
      "func:KPP.fit took: 0.013987541198730469 sec\n",
      "func:AKLL.fit took: 71.05224084854126 sec\n",
      "\n",
      "running kll for k:128\n",
      "func:Dataset.__init__ took: 0.0 sec\n",
      "func:KPP.fit took: 0.040990591049194336 sec\n",
      "func:KLL.fit took: 122.09068036079407 sec\n",
      "\n",
      "running akll for k:128\n",
      "func:Dataset.__init__ took: 0.0 sec\n",
      "func:KPP.fit took: 0.04001021385192871 sec\n",
      "func:AKLL.fit took: 114.7826783657074 sec\n",
      "\n",
      "running kll for k:256\n",
      "func:Dataset.__init__ took: 0.0 sec\n",
      "func:KPP.fit took: 0.1372687816619873 sec\n",
      "func:KLL.fit took: 243.3922896385193 sec\n",
      "\n",
      "running akll for k:256\n",
      "func:Dataset.__init__ took: 0.0 sec\n",
      "func:KPP.fit took: 0.14300251007080078 sec\n",
      "func:AKLL.fit took: 252.19920539855957 sec\n",
      "\n",
      "running kll for k:512\n",
      "func:Dataset.__init__ took: 0.0 sec\n",
      "func:KPP.fit took: 0.508000373840332 sec\n",
      "func:KLL.fit took: 469.71094489097595 sec\n",
      "\n",
      "running akll for k:512\n",
      "func:Dataset.__init__ took: 0.0 sec\n",
      "func:KPP.fit took: 0.5320076942443848 sec\n",
      "func:AKLL.fit took: 394.7886633872986 sec\n",
      "\n",
      "running kll for k:1024\n",
      "func:Dataset.__init__ took: 0.0 sec\n",
      "func:KPP.fit took: 3.5236687660217285 sec\n",
      "func:KLL.fit took: 929.9225420951843 sec\n",
      "\n",
      "running akll for k:1024\n",
      "func:Dataset.__init__ took: 0.0 sec\n",
      "func:KPP.fit took: 2.026632308959961 sec\n",
      "func:AKLL.fit took: 551.1258509159088 sec\n",
      "\n",
      "running kll for k:2048\n",
      "func:Dataset.__init__ took: 0.001024484634399414 sec\n",
      "func:KPP.fit took: 12.362585067749023 sec\n",
      "func:KLL.fit took: 2350.5812306404114 sec\n",
      "\n",
      "running akll for k:2048\n"
     ]
    },
    {
     "name": "stderr",
     "output_type": "stream",
     "text": [
      "m:\\uni\\SPR\\final\\imp\\Exact-Acceleration-of-K-Means-and-K-Means-parallel\\akll.py:91: RuntimeWarning: invalid value encountered in true_divide\n",
      "  p = min(1, self.L * self.w[i] * (alpha[i] ** 2) / Z)\n"
     ]
    },
    {
     "name": "stdout",
     "output_type": "stream",
     "text": [
      "func:Dataset.__init__ took: 0.0 sec\n",
      "func:KPP.fit took: 8.74393916130066 sec\n",
      "func:AKLL.fit took: 629.2258257865906 sec\n"
     ]
    },
    {
     "data": {
      "image/png": "[encoded data removed]",
      "text/plain": [
       "<Figure size 432x288 with 1 Axes>"
      ]
     },
     "metadata": {
      "needs_background": "light"
     },
     "output_type": "display_data"
    },
    {
     "data": {
      "image/png": "[encoded data removed]",
      "text/plain": [
       "<Figure size 432x288 with 1 Axes>"
      ]
     },
     "metadata": {
      "needs_background": "light"
     },
     "output_type": "display_data"
    },
    {
     "name": "stdout",
     "output_type": "stream",
     "text": [
      "pause\n",
      "pause\n",
      "pause\n",
      "pause\n"
     ]
    }
   ],
   "source": [
    "\n",
    "# from time import time\n",
    "# from matplotlib import pyplot as plt\n",
    "# import numpy as np\n",
    "# from akll import AKLL\n",
    "# from dataset import Dataset\n",
    "# from kll import KLL\n",
    "\n",
    "\n",
    "\n",
    "# dataset = x\n",
    "\n",
    "k = np.arange(5, 12)\n",
    "# k = np.arange(5, 8) \n",
    "\n",
    "kll_log = []\n",
    "akll_log = []\n",
    "\n",
    "for i in k:\n",
    "    try:\n",
    "        K = 2**i\n",
    "    \n",
    "        print(f\"\\nrunning kll for k:{K}\")\n",
    "        kll = KLL(x)\n",
    "        ts = time()\n",
    "        centers = kll.fit(K)\n",
    "        te = time()\n",
    "        kll_log.append(te - ts)\n",
    "\n",
    "        print(f\"\\nrunning akll for k:{K}\")\n",
    "        akll = AKLL(x)\n",
    "        ts = time()\n",
    "        centers = akll.fit(K)\n",
    "        te = time()\n",
    "        akll_log.append(te - ts)\n",
    "    except Exception as e:\n",
    "        print(e)\n",
    "\n",
    "\n",
    "x_axis = (2**k).astype(str)\n",
    "\n",
    "plt.plot(x_axis, kll_log, \"-\", label=\"kll_log\")\n",
    "plt.plot(x_axis, akll_log, \"-\", label=\"akll_log\")\n",
    "plt.xlabel(\"K\")\n",
    "plt.ylabel(\"sec\")\n",
    "plt.title(\"Runtime\")\n",
    "plt.savefig(f\"plot/Runtime_k_{k[0]}-{k[-1]}_phishing\")\n",
    "plt.show()\n",
    "\n",
    "speedup_result = np.divide(kll_log, akll_log)\n",
    "plt.plot(x_axis, speedup_result, \"-\")\n",
    "plt.xlabel(\"K\")\n",
    "plt.ylabel(\"Speedup\")\n",
    "plt.title(\"Speed comparison\")\n",
    "plt.savefig(f\"plot/Speed_comparison_k_{k[0]}-{k[-1]}_phishing\")\n",
    "plt.show()\n",
    "\n",
    "print(\"pause\")\n",
    "print(\"pause\")\n",
    "print(\"pause\")\n",
    "print(\"pause\")"
   ]
  },
  {
   "cell_type": "code",
   "execution_count": 13,
   "metadata": {},
   "outputs": [],
   "source": [
    "df=pd.DataFrame(np.array([kll_log,akll_log,speedup_result]).T,columns=['kll_log','akll_log','speedup_result'])\n",
    "df.to_csv('phishing_log_5_12.csv',index=False,encoding='utf-8-sig' )"
   ]
  },
  {
   "cell_type": "code",
   "execution_count": null,
   "metadata": {},
   "outputs": [
    {
     "data": {
      "text/plain": [
       "array([5, 6])"
      ]
     },
     "execution_count": 44,
     "metadata": {},
     "output_type": "execute_result"
    }
   ],
   "source": [
    "np.arange(5,7)"
   ]
  },
  {
   "cell_type": "code",
   "execution_count": null,
   "metadata": {},
   "outputs": [
    {
     "data": {
      "text/plain": [
       "[36.58770680427551,\n",
       " 84.42944145202637,\n",
       " 155.62252402305603,\n",
       " 349.53011417388916,\n",
       " 831.4781627655029]"
      ]
     },
     "execution_count": 13,
     "metadata": {},
     "output_type": "execute_result"
    }
   ],
   "source": [
    "kll_log"
   ]
  },
  {
   "cell_type": "code",
   "execution_count": null,
   "metadata": {},
   "outputs": [
    {
     "data": {
      "text/plain": [
       "[35.75579357147217,\n",
       " 69.52571272850037,\n",
       " 142.1574022769928,\n",
       " 270.3126480579376,\n",
       " 621.2465779781342]"
      ]
     },
     "execution_count": 14,
     "metadata": {},
     "output_type": "execute_result"
    }
   ],
   "source": [
    "akll_log"
   ]
  },
  {
   "cell_type": "code",
   "execution_count": null,
   "metadata": {},
   "outputs": [
    {
     "data": {
      "text/plain": [
       "array([1.02326653, 1.21436283, 1.09471981, 1.29305867, 1.33840281])"
      ]
     },
     "execution_count": 17,
     "metadata": {},
     "output_type": "execute_result"
    }
   ],
   "source": [
    "speedup_result"
   ]
  },
  {
   "cell_type": "code",
   "execution_count": null,
   "metadata": {},
   "outputs": [],
   "source": [
    "speedup_result = np.divide(kll_log, akll_log)"
   ]
  },
  {
   "cell_type": "code",
   "execution_count": null,
   "metadata": {},
   "outputs": [
    {
     "data": {
      "image/png": "[encoded data removed]",
      "text/plain": [
       "<Figure size 432x288 with 1 Axes>"
      ]
     },
     "metadata": {
      "needs_background": "light"
     },
     "output_type": "display_data"
    },
    {
     "data": {
      "image/png": "[encoded data removed]",
      "text/plain": [
       "<Figure size 432x288 with 1 Axes>"
      ]
     },
     "metadata": {
      "needs_background": "light"
     },
     "output_type": "display_data"
    }
   ],
   "source": [
    "k=np.arange(5,10)\n",
    "x_axis = (2**k).astype(str)\n",
    "\n",
    "plt.plot(x_axis, kll_log, \"-\", label=\"kll_log\")\n",
    "plt.plot(x_axis, akll_log, \"-\", label=\"akll_log\")\n",
    "plt.xlabel(\"K\")\n",
    "plt.ylabel(\"sec\")\n",
    "plt.title(\"Runtime\")\n",
    "plt.savefig(f\"plot/Runtime_k_{k[0]}-{k[-1]}_phishing\")\n",
    "plt.show()\n",
    "\n",
    "speedup_result = np.divide(kll_log, akll_log)\n",
    "plt.plot(x_axis, speedup_result, \"-\")\n",
    "plt.xlabel(\"K\")\n",
    "plt.ylabel(\"Speedup\")\n",
    "plt.title(\"Speed comparison\")\n",
    "plt.savefig(f\"plot/Speed_comparison_k_{k[0]}-{k[-1]}_phishing\")\n",
    "plt.show()"
   ]
  },
  {
   "cell_type": "code",
   "execution_count": null,
   "metadata": {},
   "outputs": [],
   "source": []
  }
 ],
 "metadata": {
  "interpreter": {
   "hash": "25a211228a0cddef60162bc7ea6c5f1c2ebd2b8a6771548e6062bf3a45c70c8a"
  },
  "kernelspec": {
   "display_name": "Python 3.7.9 64-bit",
   "language": "python",
   "name": "python3"
  },
  "language_info": {
   "codemirror_mode": {
    "name": "ipython",
    "version": 3
   },
   "file_extension": ".py",
   "mimetype": "text/x-python",
   "name": "python",
   "nbconvert_exporter": "python",
   "pygments_lexer": "ipython3",
   "version": "3.7.9"
  },
  "orig_nbformat": 4
 },
 "nbformat": 4,
 "nbformat_minor": 2
}
