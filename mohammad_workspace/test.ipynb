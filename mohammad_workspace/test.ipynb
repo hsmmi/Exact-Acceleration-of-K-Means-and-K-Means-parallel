{
 "cells": [
  {
   "cell_type": "code",
   "execution_count": 2,
   "metadata": {},
   "outputs": [],
   "source": [
    "import numpy as np\n",
    "import os\n",
    "import sys\n",
    "currentdir = os.path.dirname(os.path.realpath('__file__'))\n",
    "parentdir = os.path.dirname(currentdir)\n",
    "sys.path.append(parentdir)\n",
    "\n",
    "from dataset import Dataset\n",
    "from tools import distance,new_seed,execution_time\n",
    "import matplotlib.pyplot as plt\n",
    "from  nearest_neighbor_search import NNS\n",
    "\n",
    "from akll import AKLL\n",
    "from kll import KLL"
   ]
  },
  {
   "cell_type": "code",
   "execution_count": 3,
   "metadata": {},
   "outputs": [],
   "source": [
    "dataset_name = 'test_2.csv'\n",
    "dataset_path=f'{parentdir}/dataset/{dataset_name}'\n",
    "x = Dataset(dataset_path)"
   ]
  },
  {
   "cell_type": "code",
   "execution_count": 11,
   "metadata": {},
   "outputs": [
    {
     "name": "stdout",
     "output_type": "stream",
     "text": [
      "func:fit took: 0.0 sec\n"
     ]
    },
    {
     "data": {
      "text/plain": [
       "<matplotlib.collections.PathCollection at 0x18eddb9f488>"
      ]
     },
     "execution_count": 11,
     "metadata": {},
     "output_type": "execute_result"
    },
    {
     "data": {
      "image/png": "[encoded data removed]",
      "text/plain": [
       "<Figure size 432x288 with 1 Axes>"
      ]
     },
     "metadata": {
      "needs_background": "light"
     },
     "output_type": "display_data"
    }
   ],
   "source": [
    "t=AKLL(x)\n",
    "c=t.fit(2,5,4)\n",
    "plt.scatter(t.X[:,0],t.X[:,1])\n",
    "plt.scatter(c[:,0],c[:,1])"
   ]
  },
  {
   "cell_type": "code",
   "execution_count": 4,
   "metadata": {},
   "outputs": [],
   "source": [
    "# algorithm 1 K-Means++\n",
    "class kpp:\n",
    "    \n",
    "\n",
    "    def __init__(\n",
    "        self,\n",
    "        dataset:Dataset\n",
    "        )->None:\n",
    "\n",
    "        \n",
    "        self.dataset = dataset\n",
    "        self.n=dataset.number_of_sample\n",
    "        self.d=dataset.number_of_feature\n",
    "        self.X=dataset.sample\n",
    "        self.m = None\n",
    "        self.K=None\n",
    "\n",
    "\n",
    "    \n",
    "    def fit(\n",
    "        self,\n",
    "        number_of_cluster:int ,\n",
    "        sample_weight:np.ndarray=None\n",
    "        )->np.ndarray:\n",
    "        \n",
    "        self.m=np.empty((0, self.d))\n",
    "        self.K=number_of_cluster\n",
    "\n",
    "\n",
    "            \n",
    "        assert self.n>self.K and self.K >0 ,\\\n",
    "            'number of cluster should be in range [1,n)' \n",
    "            \n",
    "        if sample_weight is not None:\n",
    "            self.sample_weight=np.array(sample_weight)\n",
    "        else:\n",
    "            self.sample_weight=np.ones(self.n)\n",
    "       \n",
    "        self.sample_weight=self.sample_weight.reshape((-1,1)) \n",
    "        # line 1\n",
    "        beta=self.sample_weight/np.sum(self.sample_weight)\n",
    "        # line 2\n",
    "\n",
    "        m=np.vstack((self.m,new_seed(self.X,1,beta)))\n",
    "        # line 3\n",
    "        alpha=np.array([np.inf]*self.n).reshape((-1,1))\n",
    "        k=1\n",
    "        # line 4\n",
    "        while k <self.K:\n",
    "            # line 5,6\n",
    "            alpha=np.minimum(alpha,distance(self.X,m[k-1]))\n",
    "            # line 7,8\n",
    "            t=self.sample_weight*(alpha**2)\n",
    "            beta=t/np.sum(t)\n",
    "            # line 9\n",
    "            k+=1\n",
    "            # line 10\n",
    "            m=np.vstack((m,new_seed(self.X,1,beta)))\n",
    "        self.m=m\n",
    "        # line 11\n",
    "        return np.array(m)\n",
    "    \n",
    "    "
   ]
  },
  {
   "cell_type": "code",
   "execution_count": 5,
   "metadata": {},
   "outputs": [],
   "source": [
    "t=kpp(x)\n"
   ]
  },
  {
   "cell_type": "code",
   "execution_count": 6,
   "metadata": {},
   "outputs": [
    {
     "ename": "AssertionError",
     "evalue": "number of cluster should be in range [1,n)",
     "output_type": "error",
     "traceback": [
      "\u001b[1;31m---------------------------------------------------------------------------\u001b[0m",
      "\u001b[1;31mAssertionError\u001b[0m                            Traceback (most recent call last)",
      "\u001b[1;32m~\\AppData\\Local\\Temp\\ipykernel_12648\\773225769.py\u001b[0m in \u001b[0;36m<module>\u001b[1;34m\u001b[0m\n\u001b[1;32m----> 1\u001b[1;33m \u001b[0mt\u001b[0m\u001b[1;33m.\u001b[0m\u001b[0mfit\u001b[0m\u001b[1;33m(\u001b[0m\u001b[1;33m-\u001b[0m\u001b[1;36m2\u001b[0m\u001b[1;33m)\u001b[0m\u001b[1;33m\u001b[0m\u001b[1;33m\u001b[0m\u001b[0m\n\u001b[0m",
      "\u001b[1;32m~\\AppData\\Local\\Temp\\ipykernel_12648\\3125792788.py\u001b[0m in \u001b[0;36mfit\u001b[1;34m(self, number_of_cluster, sample_weight)\u001b[0m\n\u001b[0;32m     30\u001b[0m \u001b[1;33m\u001b[0m\u001b[0m\n\u001b[0;32m     31\u001b[0m         \u001b[1;32massert\u001b[0m \u001b[0mself\u001b[0m\u001b[1;33m.\u001b[0m\u001b[0mn\u001b[0m\u001b[1;33m>\u001b[0m\u001b[0mself\u001b[0m\u001b[1;33m.\u001b[0m\u001b[0mK\u001b[0m \u001b[1;32mand\u001b[0m \u001b[0mself\u001b[0m\u001b[1;33m.\u001b[0m\u001b[0mK\u001b[0m \u001b[1;33m>\u001b[0m\u001b[1;36m0\u001b[0m \u001b[1;33m,\u001b[0m\u001b[0;31m\\\u001b[0m\u001b[1;33m\u001b[0m\u001b[1;33m\u001b[0m\u001b[0m\n\u001b[1;32m---> 32\u001b[1;33m             \u001b[1;34m'number of cluster should be in range [1,n)'\u001b[0m\u001b[1;33m\u001b[0m\u001b[1;33m\u001b[0m\u001b[0m\n\u001b[0m\u001b[0;32m     33\u001b[0m \u001b[1;33m\u001b[0m\u001b[0m\n\u001b[0;32m     34\u001b[0m         \u001b[1;32mif\u001b[0m \u001b[0msample_weight\u001b[0m \u001b[1;32mis\u001b[0m \u001b[1;32mnot\u001b[0m \u001b[1;32mNone\u001b[0m\u001b[1;33m:\u001b[0m\u001b[1;33m\u001b[0m\u001b[1;33m\u001b[0m\u001b[0m\n",
      "\u001b[1;31mAssertionError\u001b[0m: number of cluster should be in range [1,n)"
     ]
    }
   ],
   "source": [
    "t.fit(-2)"
   ]
  },
  {
   "cell_type": "code",
   "execution_count": null,
   "metadata": {},
   "outputs": [
    {
     "data": {
      "text/plain": [
       "array([[2., 0.],\n",
       "       [2., 3.],\n",
       "       [3., 3.]])"
      ]
     },
     "execution_count": 134,
     "metadata": {},
     "output_type": "execute_result"
    }
   ],
   "source": [
    "\n",
    "m=np.empty((0,t.d))\n",
    "m=np.vstack((m,new_seed(t.X,1,beta)))\n",
    "m=np.vstack((m,new_seed(t.X,1,beta)))\n",
    "m=np.vstack((m,new_seed(t.X,1,beta)))\n",
    "m"
   ]
  },
  {
   "cell_type": "code",
   "execution_count": null,
   "metadata": {},
   "outputs": [
    {
     "data": {
      "text/plain": [
       "<matplotlib.collections.PathCollection at 0x1e3d493b148>"
      ]
     },
     "execution_count": 79,
     "metadata": {},
     "output_type": "execute_result"
    },
    {
     "data": {
      "image/png": "[encoded data removed]",
      "text/plain": [
       "<Figure size 432x288 with 1 Axes>"
      ]
     },
     "metadata": {
      "needs_background": "light"
     },
     "output_type": "display_data"
    }
   ],
   "source": [
    "t=kll()\n",
    "c=t.fit(2)\n",
    "plt.scatter(t.X[:,0],t.X[:,1])\n",
    "plt.scatter(c[:,0],c[:,1])"
   ]
  },
  {
   "cell_type": "code",
   "execution_count": null,
   "metadata": {},
   "outputs": [],
   "source": [
    "c=np.array([[0,0],[2,2]])"
   ]
  },
  {
   "cell_type": "code",
   "execution_count": null,
   "metadata": {},
   "outputs": [],
   "source": [
    "j=np.array([[0,2],[0,4]])"
   ]
  },
  {
   "cell_type": "code",
   "execution_count": null,
   "metadata": {},
   "outputs": [
    {
     "data": {
      "text/plain": [
       "array([[2.        , 4.        ],\n",
       "       [2.        , 2.82842712]])"
      ]
     },
     "execution_count": 52,
     "metadata": {},
     "output_type": "execute_result"
    }
   ],
   "source": [
    "np.linalg.norm(c[:,None,:]-j,axis=2)  "
   ]
  },
  {
   "cell_type": "code",
   "execution_count": null,
   "metadata": {},
   "outputs": [],
   "source": [
    "j=np.empty(5)"
   ]
  },
  {
   "cell_type": "code",
   "execution_count": 5,
   "metadata": {},
   "outputs": [],
   "source": [
    "@execution_time\n",
    "def runner(iter:int,k:int):\n",
    "    dis = []\n",
    "    for i in range(iter):\n",
    "        \n",
    "        t.fit(k,5,k*2)\n",
    "        dis.append(distance(t.c[0], t.c[1]))\n",
    "    # plt.scatter(akpp.X[:, 0], akpp.X[:, 1])\n",
    "    # plt.scatter(akpp.m[:, 0], akpp.m[:, 1])\n",
    "    # plt.show()\n",
    "    return np.mean(dis)"
   ]
  },
  {
   "cell_type": "code",
   "execution_count": null,
   "metadata": {},
   "outputs": [
    {
     "data": {
      "text/plain": [
       "(1, 2)"
      ]
     },
     "execution_count": 110,
     "metadata": {},
     "output_type": "execute_result"
    }
   ],
   "source": [
    "beta=t.sample_weight/np.sum(t.sample_weight)\n",
    "new_seed(x.sample,1,beta).shape"
   ]
  },
  {
   "cell_type": "code",
   "execution_count": 6,
   "metadata": {},
   "outputs": [
    {
     "name": "stderr",
     "output_type": "stream",
     "text": [
      "C:\\Users\\Mohammad\\AppData\\Local\\Programs\\Python\\Python37\\lib\\site-packages\\numpy\\lib\\function_base.py:4454: VisibleDeprecationWarning: Creating an ndarray from ragged nested sequences (which is a list-or-tuple of lists-or-tuples-or ndarrays with different lengths or shapes) is deprecated. If you meant to do this, you must specify 'dtype=object' when creating the ndarray.\n",
      "  arr = asarray(arr)\n"
     ]
    },
    {
     "name": "stdout",
     "output_type": "stream",
     "text": [
      "func:fit took: 0.0009999275207519531 sec\n",
      "func:fit took: 0.0009942054748535156 sec\n",
      "func:fit took: 0.0 sec\n",
      "func:fit took: 0.0 sec\n",
      "func:fit took: 0.000997781753540039 sec\n",
      "func:fit took: 0.0 sec\n",
      "func:fit took: 0.0 sec\n",
      "func:fit took: 0.0 sec\n",
      "func:fit took: 0.0 sec\n",
      "func:fit took: 0.001003265380859375 sec\n",
      "func:runner took: 20.007869482040405 sec\n"
     ]
    },
    {
     "data": {
      "text/plain": [
       "79.69048943517919"
      ]
     },
     "execution_count": 6,
     "metadata": {},
     "output_type": "execute_result"
    }
   ],
   "source": [
    "t=AKLL(x)\n",
    "# c=t.fit(2,5,4)\n",
    "runner(10,2)"
   ]
  },
  {
   "cell_type": "code",
   "execution_count": null,
   "metadata": {},
   "outputs": [],
   "source": [
    "c=np.array([1,2,3])\n",
    "j=np.array([4,1,6])"
   ]
  },
  {
   "cell_type": "code",
   "execution_count": null,
   "metadata": {},
   "outputs": [
    {
     "data": {
      "text/plain": [
       "array([0.12698413, 0.01587302, 0.85714286])"
      ]
     },
     "execution_count": 36,
     "metadata": {},
     "output_type": "execute_result"
    }
   ],
   "source": [
    "c*j**2/np.sum(c*j**2)"
   ]
  },
  {
   "cell_type": "code",
   "execution_count": null,
   "metadata": {},
   "outputs": [
    {
     "name": "stdout",
     "output_type": "stream",
     "text": [
      "Writing kll.py\n"
     ]
    }
   ],
   "source": [
    "# %%file kll.py\n",
    "# import numpy as np\n",
    "# from dataset import Dataset\n",
    "# from tools import distance, new_seed, execution_time\n",
    "\n",
    "\n",
    "# algorithm 3 K-Means ||\n",
    "class kll:\n",
    "    def __init__(self, dataset: Dataset) -> None:\n",
    "        self.dataset = dataset\n",
    "        self.n = dataset.number_of_sample\n",
    "        self.d = dataset.number_of_feature\n",
    "        self.X = dataset.sample\n",
    "        self.c = None\n",
    "        self.K = None\n",
    "        self.R = None\n",
    "        self.l = None\n",
    "\n",
    "    @execution_time\n",
    "    def fit(\n",
    "            self, number_of_cluster: int,\n",
    "            rounds:int=5,\n",
    "            oversampling_factor:int=1,\n",
    "            sample_weight: np.ndarray = None) -> np.ndarray:\n",
    "\n",
    "        self.c = np.empty((0, self.d))\n",
    "        self.K = number_of_cluster\n",
    "        self.R = rounds\n",
    "        self.l = oversampling_factor\n",
    "\n",
    "        assert self.R>0 and self.l>0 , \\\n",
    "            'invalid function parameter'\n",
    "        assert self.n>self.K and self.K >0 ,\\\n",
    "            'number of cluster should be in range [1,n)' \n",
    "\n",
    "        if sample_weight is not None:\n",
    "            self.sample_weight = np.array(sample_weight)\n",
    "        else:\n",
    "            self.sample_weight = np.ones(self.n)\n",
    "       \n",
    "        self.sample_weight = self.sample_weight.reshape((-1, 1))\n",
    "        # line 1 algorithm 1\n",
    "        beta = self.sample_weight/np.sum(self.sample_weight)\n",
    "        # line 2 algorithm 1\n",
    "        c = np.vstack((self.c, new_seed(self.X, 1, beta)))\n",
    "        # line 3 algorithm 1\n",
    "        alpha = np.array([np.inf]*self.n).reshape((-1, 1))\n",
    "        k = 1\n",
    "        kp = 0\n",
    "        # line 4,5,6 algorithm 1\n",
    "        for r in range(self.R):\n",
    "            for i in range(self.n):\n",
    "                for j in range(kp,k):\n",
    "                    # line 7 algorithm 1\n",
    "                    alpha[i] = np.minimum(\n",
    "                        alpha[i], distance(self.X[i], c[j]))\n",
    "\n",
    "            # line 8,9 algorithm 1\n",
    "            kp = k\n",
    "            t = self.sample_weight*(alpha**2)\n",
    "            z = np.sum(t)\n",
    "            # line 10,11,12 algorithm 3\n",
    "            for i in range(self.n):\n",
    "                p=(self.l*self.sample_weight[i]*(alpha[i]**2)/z)\n",
    "                if p > np.random.rand(1)[0]:\n",
    "                    k+=1\n",
    "                    c=np.vstack((c, self.X[i]))\n",
    "                    alpha[i]=0\n",
    "       \n",
    "        # line 13 algorithm 3\n",
    "        wp=np.empty((0,1))\n",
    "        for i in range(c.shape[0]):\n",
    "            s=0\n",
    "            for j in range(self.n):\n",
    "                wj=self.sample_weight[j]\n",
    "                indic= 1 if distance(self.X[j], c[i])==alpha[j] else 0\n",
    "                s+=wj*indic\n",
    "           \n",
    "            wp=np.vstack((wp,s))\n",
    "        self.c=c\n",
    "        # line 14 algorithm 3\n",
    "        kpp_=kpp(Dataset(np.array(c)))\n",
    "\n",
    "        return kpp_.fit(self.K,wp)\n",
    "            \n",
    "\n",
    "# t=kll(x)\n",
    "# c=t.fit(2,5,4)\n",
    "# plt.scatter(t.X[:,0],t.X[:,1])\n",
    "# plt.scatter(c[:,0],c[:,1])\n"
   ]
  },
  {
   "cell_type": "code",
   "execution_count": null,
   "metadata": {},
   "outputs": [],
   "source": [
    "assert -1   , ' heeee'"
   ]
  },
  {
   "cell_type": "code",
   "execution_count": null,
   "metadata": {},
   "outputs": [
    {
     "data": {
      "text/plain": [
       "25"
      ]
     },
     "execution_count": 113,
     "metadata": {},
     "output_type": "execute_result"
    }
   ],
   "source": [
    "x.number_of_sample"
   ]
  },
  {
   "cell_type": "code",
   "execution_count": null,
   "metadata": {},
   "outputs": [],
   "source": [
    "def encode(y):            \n",
    "    return (np.arange(np.unique(y).size) == y)"
   ]
  },
  {
   "cell_type": "code",
   "execution_count": null,
   "metadata": {},
   "outputs": [
    {
     "name": "stderr",
     "output_type": "stream",
     "text": [
      "C:\\Users\\Mohammad\\AppData\\Local\\Programs\\Python\\Python37\\lib\\site-packages\\ipykernel_launcher.py:2: DeprecationWarning: elementwise comparison failed; this will raise an error in the future.\n",
      "  \n"
     ]
    },
    {
     "data": {
      "text/plain": [
       "False"
      ]
     },
     "execution_count": 94,
     "metadata": {},
     "output_type": "execute_result"
    }
   ],
   "source": [
    "encode()"
   ]
  },
  {
   "cell_type": "code",
   "execution_count": null,
   "metadata": {},
   "outputs": [
    {
     "name": "stderr",
     "output_type": "stream",
     "text": [
      "C:\\Users\\Mohammad\\AppData\\Local\\Programs\\Python\\Python37\\lib\\site-packages\\ipykernel_launcher.py:1: DeprecationWarning: elementwise comparison failed; this will raise an error in the future.\n",
      "  \"\"\"Entry point for launching an IPython kernel.\n"
     ]
    },
    {
     "data": {
      "text/plain": [
       "False"
      ]
     },
     "execution_count": 99,
     "metadata": {},
     "output_type": "execute_result"
    }
   ],
   "source": [
    "if 1==1 :"
   ]
  },
  {
   "cell_type": "code",
   "execution_count": null,
   "metadata": {},
   "outputs": [
    {
     "data": {
      "text/plain": [
       "0"
      ]
     },
     "execution_count": 101,
     "metadata": {},
     "output_type": "execute_result"
    }
   ],
   "source": [
    "d= 1 if 3==5 else 0\n",
    "d"
   ]
  },
  {
   "cell_type": "code",
   "execution_count": null,
   "metadata": {},
   "outputs": [],
   "source": [
    "g=distance(x.sample[1], x.sample[5])"
   ]
  },
  {
   "cell_type": "code",
   "execution_count": null,
   "metadata": {},
   "outputs": [
    {
     "data": {
      "text/plain": [
       "1"
      ]
     },
     "execution_count": 138,
     "metadata": {},
     "output_type": "execute_result"
    }
   ],
   "source": [
    "1 if g>np.array([[1]]) else 0"
   ]
  },
  {
   "cell_type": "code",
   "execution_count": null,
   "metadata": {},
   "outputs": [
    {
     "data": {
      "text/plain": [
       "array([[1.41421356]])"
      ]
     },
     "execution_count": 136,
     "metadata": {},
     "output_type": "execute_result"
    }
   ],
   "source": [
    "g"
   ]
  },
  {
   "cell_type": "code",
   "execution_count": null,
   "metadata": {},
   "outputs": [],
   "source": [
    "y=np.array([[1,2],[3,4]])\n",
    "# Dataset(y)\n",
    "x=Dataset(y)"
   ]
  },
  {
   "cell_type": "code",
   "execution_count": null,
   "metadata": {},
   "outputs": [
    {
     "data": {
      "text/plain": [
       "2"
      ]
     },
     "execution_count": 13,
     "metadata": {},
     "output_type": "execute_result"
    }
   ],
   "source": [
    "x.number_of_feature"
   ]
  },
  {
   "cell_type": "code",
   "execution_count": null,
   "metadata": {},
   "outputs": [],
   "source": [
    "f=np.empty((0,2))"
   ]
  },
  {
   "cell_type": "code",
   "execution_count": null,
   "metadata": {},
   "outputs": [
    {
     "data": {
      "text/plain": [
       "array([], shape=(0, 20), dtype=float64)"
      ]
     },
     "execution_count": 63,
     "metadata": {},
     "output_type": "execute_result"
    }
   ],
   "source": [
    "f"
   ]
  },
  {
   "cell_type": "code",
   "execution_count": null,
   "metadata": {},
   "outputs": [],
   "source": [
    "f=np.vstack((f,np.array([1,2])))"
   ]
  },
  {
   "cell_type": "code",
   "execution_count": null,
   "metadata": {},
   "outputs": [
    {
     "data": {
      "text/plain": [
       "array([[1., 2.]])"
      ]
     },
     "execution_count": 68,
     "metadata": {},
     "output_type": "execute_result"
    }
   ],
   "source": [
    "f"
   ]
  },
  {
   "cell_type": "code",
   "execution_count": null,
   "metadata": {},
   "outputs": [],
   "source": [
    "import numpy as np\n",
    "from dataset import Dataset\n",
    "from tools import distance, new_seed, execution_time\n",
    "import kpp\n",
    "\n",
    "\n",
    "# algorithm 5 Accelerated K-Means ||\n",
    "class Akll:\n",
    "    def __init__(self, dataset: Dataset) -> None:\n",
    "        self.dataset = dataset\n",
    "        self.n = dataset.number_of_sample\n",
    "        self.d = dataset.number_of_feature\n",
    "        self.X = dataset.sample\n",
    "        self.c = None\n",
    "        self.K = None\n",
    "        self.R = None\n",
    "        self.L = None\n",
    "\n",
    "    @execution_time\n",
    "    def fit(\n",
    "        self,\n",
    "        number_of_cluster: int,\n",
    "        rounds: int = 5,\n",
    "        oversampling_factor: int = 1,\n",
    "        sample_weight: np.ndarray = None,\n",
    "    ) -> np.ndarray:\n",
    "\n",
    "        self.c = np.empty((0, self.d))\n",
    "        self.K = number_of_cluster\n",
    "        self.R = rounds\n",
    "        self.L = oversampling_factor\n",
    "\n",
    "        assert self.R > 0 and self.L > 0, \"invalid function parameter\"\n",
    "        assert (\n",
    "            self.n > self.K and self.K > 0\n",
    "        ), \"number of cluster should be in range [1,n)\"\n",
    "\n",
    "        if sample_weight is not None:\n",
    "            self.sample_weight = np.array(sample_weight)\n",
    "        else:\n",
    "            self.sample_weight = np.ones(self.n)\n",
    "\n",
    "        self.sample_weight = self.sample_weight.reshape((-1, 1))\n",
    "        # line 1 algorithm 5\n",
    "        beta = self.sample_weight / np.sum(self.sample_weight)\n",
    "        # line 2 algorithm 5\n",
    "        c = np.vstack((self.c, new_seed(self.X, 1, beta)))\n",
    "        # line 3 algorithm 5\n",
    "        alpha = np.array([np.inf] * self.n).reshape((-1, 1))\n",
    "        k = 1\n",
    "        kp = 0\n",
    "        # line 4 algorithm 5\n",
    "        for r in range(self.R):\n",
    "            # line  5, 6,7 algorithm 5\n",
    "            #  C ← new index built from {ckprev, . . . , ck }\n",
    "            for i in range(self.n):\n",
    "                j=None # j=C.nearestinrange(xi,ai)\n",
    "                # line 8,9 algorithm 5\n",
    "                if j>=0:\n",
    "                    alpha[i] = distance(self.X[i], c[j])\n",
    "\n",
    "            # line 10 algorithm 5\n",
    "            kp = k\n",
    "            t = self.sample_weight * (alpha**2)\n",
    "            z = np.sum(t)\n",
    "            # line 11,12,13 algorithm 5\n",
    "            for i in range(self.n):\n",
    "                p = self.L * self.sample_weight[i] * (alpha[i] ** 2) / z\n",
    "                if p > np.random.rand(1)[0]:\n",
    "                    k += 1\n",
    "                    c = np.vstack((c, self.X[i]))\n",
    "                    alpha[i] = 0\n",
    "\n",
    "        # line 14 algorithm 5\n",
    "        wp = np.empty((0, 1))\n",
    "        for i in range(c.shape[0]):\n",
    "            s = 0\n",
    "            for j in range(self.n):\n",
    "                wj = self.sample_weight[j]\n",
    "                indic = 1 if distance(self.X[j], c[i]) == alpha[j] else 0\n",
    "                s += wj * indic\n",
    "\n",
    "            wp = np.vstack((wp, s))\n",
    "        self.c = c\n",
    "        # line 15 algorithm 5\n",
    "        kpp_ = kpp(Dataset(np.array(c)))\n",
    "\n",
    "        return kpp_.fit(self.K, wp)\n"
   ]
  },
  {
   "cell_type": "code",
   "execution_count": null,
   "metadata": {},
   "outputs": [],
   "source": []
  },
  {
   "cell_type": "code",
   "execution_count": null,
   "metadata": {},
   "outputs": [],
   "source": [
    "import vptree\n",
    "\n",
    "# Define distance function.\n",
    "def euclidean(p1, p2):\n",
    "  return np.sqrt(np.sum(np.power(p2 - p1, 2)))\n",
    "\n",
    "# Generate some random points.\n",
    "points = np.random.randn(20, 2)\n",
    "query = [0] * 2\n",
    "\n",
    "# Build tree in O(n log n) time complexity.\n",
    "tree = vptree.VPTree(points, euclidean)\n",
    "\n",
    "# Query single point.\n",
    "res=tree.get_nearest_neighbor(query)\n",
    "\n",
    "# Query n-points.\n",
    "# tree.get_n_nearest_neighbors(query, 10)\n",
    "\n",
    "# Get all points within certain distance.\n",
    "# tree.get_all_in_range(query, 3.14)"
   ]
  },
  {
   "cell_type": "code",
   "execution_count": null,
   "metadata": {},
   "outputs": [
    {
     "data": {
      "text/plain": [
       "array([[-2.16407186, -2.18319461],\n",
       "       [-1.34508428,  1.50288073],\n",
       "       [-1.68862182, -0.2000634 ],\n",
       "       [ 0.13335667, -0.90264669],\n",
       "       [-0.77134759,  1.37950545],\n",
       "       [ 0.24889514,  0.62063311],\n",
       "       [ 0.80558597, -0.13477106],\n",
       "       [-1.82859245,  0.47754931],\n",
       "       [-0.77525922, -0.29171861],\n",
       "       [-0.14115441, -0.0444899 ],\n",
       "       [-2.68506889,  1.35406943],\n",
       "       [-2.01349752, -0.19993574],\n",
       "       [ 0.85005865,  0.607197  ],\n",
       "       [-0.66341392, -0.67362096],\n",
       "       [-0.74121948,  1.2939336 ],\n",
       "       [-0.52856687,  1.33391419],\n",
       "       [-1.18189318, -0.38073969],\n",
       "       [-1.31870001,  0.90299699],\n",
       "       [-0.16970442,  0.71759648],\n",
       "       [ 1.88940594,  0.81402993]])"
      ]
     },
     "execution_count": 11,
     "metadata": {},
     "output_type": "execute_result"
    }
   ],
   "source": [
    "points"
   ]
  },
  {
   "cell_type": "code",
   "execution_count": null,
   "metadata": {},
   "outputs": [
    {
     "data": {
      "text/plain": [
       "<matplotlib.collections.PathCollection at 0x206a0f0a148>"
      ]
     },
     "execution_count": 33,
     "metadata": {},
     "output_type": "execute_result"
    },
    {
     "data": {
      "image/png": "[encoded data removed]",
      "text/plain": [
       "<Figure size 432x288 with 1 Axes>"
      ]
     },
     "metadata": {
      "needs_background": "light"
     },
     "output_type": "display_data"
    }
   ],
   "source": [
    "plt.scatter(points[:,0],points[:,1])\n",
    "plt.scatter(res[1][0],res[1][1])"
   ]
  },
  {
   "cell_type": "code",
   "execution_count": null,
   "metadata": {},
   "outputs": [],
   "source": [
    "import copy\n",
    "\n",
    "\n",
    "def g(tree):\n",
    "    return copy.deepcopy(tree)\n",
    "y=g(tree)\n"
   ]
  },
  {
   "cell_type": "code",
   "execution_count": null,
   "metadata": {},
   "outputs": [
    {
     "name": "stdout",
     "output_type": "stream",
     "text": [
      "[ 2.32703691 -0.49282275]\n",
      "[-0.74254477  2.23013928]\n",
      "[ 0.17292991 -2.47294688]\n",
      "[ 0.73360469 -2.28962849]\n"
     ]
    }
   ],
   "source": [
    "y=g(tree)\n",
    "while True: \n",
    "\n",
    "    right=y.right\n",
    "    if not right:\n",
    "        break\n",
    "\n",
    "    print(right.vp)\n",
    "\n",
    "    y=right"
   ]
  },
  {
   "cell_type": "code",
   "execution_count": null,
   "metadata": {},
   "outputs": [],
   "source": [
    "def test(x):\n",
    "    yield 12\n",
    "    yield 13\n",
    "    "
   ]
  },
  {
   "cell_type": "code",
   "execution_count": null,
   "metadata": {},
   "outputs": [],
   "source": [
    "c=list(test(3))"
   ]
  },
  {
   "cell_type": "code",
   "execution_count": null,
   "metadata": {},
   "outputs": [
    {
     "data": {
      "text/plain": [
       "[12, 13]"
      ]
     },
     "execution_count": 78,
     "metadata": {},
     "output_type": "execute_result"
    }
   ],
   "source": [
    "c"
   ]
  },
  {
   "cell_type": "code",
   "execution_count": null,
   "metadata": {},
   "outputs": [
    {
     "data": {
      "text/plain": [
       "[12, 13]"
      ]
     },
     "execution_count": 79,
     "metadata": {},
     "output_type": "execute_result"
    }
   ],
   "source": [
    "c"
   ]
  },
  {
   "cell_type": "code",
   "execution_count": null,
   "metadata": {},
   "outputs": [],
   "source": []
  }
 ],
 "metadata": {
  "interpreter": {
   "hash": "25a211228a0cddef60162bc7ea6c5f1c2ebd2b8a6771548e6062bf3a45c70c8a"
  },
  "kernelspec": {
   "display_name": "Python 3.7.9 64-bit",
   "language": "python",
   "name": "python3"
  },
  "language_info": {
   "codemirror_mode": {
    "name": "ipython",
    "version": 3
   },
   "file_extension": ".py",
   "mimetype": "text/x-python",
   "name": "python",
   "nbconvert_exporter": "python",
   "pygments_lexer": "ipython3",
   "version": "3.7.9"
  },
  "orig_nbformat": 4
 },
 "nbformat": 4,
 "nbformat_minor": 2
}
